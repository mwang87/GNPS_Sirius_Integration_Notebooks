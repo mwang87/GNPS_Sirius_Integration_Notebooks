{
 "cells": [
  {
   "cell_type": "markdown",
   "metadata": {},
   "source": [
    "# Jupyter notebook to integrate SIRIUS results into FBMN"
   ]
  },
  {
   "cell_type": "markdown",
   "metadata": {},
   "source": [
    "This notebook creates a Cytoscape file where the SIRIUS annotations are mapped into a feature-based molecular network (FBMN) from GNPS jobs. \n",
    "\n",
    "> **The latest version of the notebook is available at** -> [https://github.com/mwang87/GNPS_Sirius_Integration_Notebooks](https://github.com/mwang87/GNPS_Sirius_Integration_Notebooks)\n",
    "\n",
    "! **IMPORTANT**: this binder notebook is a temporary instance running on the cloud. Save the notebook if you want to reaccess it later. "
   ]
  },
  {
   "cell_type": "markdown",
   "metadata": {},
   "source": [
    "## Indicate the GNPS job task ID\n",
    "\n",
    ">1) **Step 1 - Run a FBMN job and a SIRIUS job on GNPS**\n",
    ">> **For more information about FBMN** -> [https://ccms-ucsd.github.io/GNPSDocumentation/featurebasedmolecularnetworking/](https://ccms-ucsd.github.io/GNPSDocumentation/featurebasedmolecularnetworking/) \\\n",
    ">> **For more information about SIRIUS** ->[https://ccms-ucsd.github.io/GNPSDocumentation/sirius/](https://ccms-ucsd.github.io/GNPSDocumentation/sirius/)\\\n",
    "\n",
    ">2) **Step 2 - Replace the task ID in the cell below for the GNPS jobs**\n",
    ">>Note that the same spectral summary file (MGF file) must have been used in both workflows. Also the jobs must have been completed.\\\n",
    "For MZmine users, it is recommended to use the MS2 spectral summary exported from the \"GNPS Export module\" for the FBMN, and the MS1/MS2 spectral summary exported with the \"SIRIUS export\" module for SIRIUS.\n",
    "\n",
    "> 3) **Step 3 - Run all the cells below**"
   ]
  },
  {
   "cell_type": "code",
   "execution_count": 1,
   "metadata": {},
   "outputs": [],
   "source": [
    "# Update the tasks here from GNPS\n",
    "FBMN_TASK = \"bb6766d6f48c4cb6bd84fd620da9cae5\"\n",
    "SIRIUS_TASK = \"72542358ffca4eeda6a4b50d06b91e60\""
   ]
  },
  {
   "cell_type": "code",
   "execution_count": 2,
   "metadata": {},
   "outputs": [],
   "source": [
    "import requests\n",
    "import pandas as pd\n",
    "import networkx as nx"
   ]
  },
  {
   "cell_type": "code",
   "execution_count": 3,
   "metadata": {},
   "outputs": [],
   "source": [
    "# Saving FBMN Network\n",
    "r = requests.get(\"http://gnps.ucsd.edu/ProteoSAFe/DownloadResultFile?task={}&block=main&file=gnps_molecular_network_graphml/\".format(FBMN_TASK))\n",
    "with open('fbmn_network.graphml', 'wb') as f:\n",
    "    f.write(r.content)"
   ]
  },
  {
   "cell_type": "code",
   "execution_count": 4,
   "metadata": {},
   "outputs": [],
   "source": [
    "# Saving Sirius Formulas\n",
    "r = requests.get(\"http://gnps.ucsd.edu/ProteoSAFe/DownloadResultFile?task={}&block=main&file=merged_output/formula_identifications.tsv\".format(SIRIUS_TASK))\n",
    "with open('formula_classifications.tsv', 'wb') as f:\n",
    "    f.write(r.content)\n",
    "sirius_df = pd.read_csv(\"formula_classifications.tsv\", sep=\"\\t\")"
   ]
  },
  {
   "cell_type": "code",
   "execution_count": 5,
   "metadata": {},
   "outputs": [],
   "source": [
    "# Saving Sirius Structure\n",
    "r = requests.get(\"http://gnps.ucsd.edu/ProteoSAFe/DownloadResultFile?task={}&block=main&file=merged_output/compound_identifications.tsv\".format(SIRIUS_TASK))\n",
    "with open('compound_classifications.tsv', 'wb') as f:\n",
    "    f.write(r.content)\n",
    "fingerid_df = pd.read_csv(\"compound_classifications.tsv\", sep=\"\\t\")"
   ]
  },
  {
   "cell_type": "code",
   "execution_count": 6,
   "metadata": {},
   "outputs": [],
   "source": [
    "# Saving Sirius Canopus Classifications\n",
    "r = requests.get(\"http://gnps.ucsd.edu/ProteoSAFe/DownloadResultFile?task={}&block=main&file=merged_output/canopus_classification.tsv\".format(SIRIUS_TASK))\n",
    "with open('canopus_classifications.tsv', 'wb') as f:\n",
    "    f.write(r.content)\n",
    "canopus_df = pd.read_csv(\"canopus_classifications.tsv\", sep=\"\\t\")"
   ]
  },
  {
   "cell_type": "code",
   "execution_count": 7,
   "metadata": {},
   "outputs": [],
   "source": [
    "# Integrating into Graphml\n",
    "G = nx.read_graphml(\"fbmn_network.graphml\")\n",
    "\n",
    "# Adding sirius information\n",
    "for result in sirius_df.to_dict(orient=\"records\"):\n",
    "    scan = str(result[\"scan\"])\n",
    "    if scan in G:\n",
    "        G.node[scan][\"sirius:molecularFormula\"] = result[\"molecularFormula\"]\n",
    "        G.node[scan][\"sirius:adduct\"] = result[\"adduct\"]\n",
    "        G.node[scan][\"sirius:Zodiac_Score\"] = result[\"Zodiac_Score\"]\n",
    "        G.node[scan][\"sirius:TreeIsotope_Score\"] = result[\"TreeIsotope_Score\"]\n",
    "        G.node[scan][\"sirius:Isotope_Score\"] = result[\"Isotope_Score\"]\n",
    "        G.node[scan][\"sirius:explainedPeaks\"] = result[\"explainedPeaks\"]\n",
    "        G.node[scan][\"sirius:explainedIntensity\"] = result[\"explainedIntensity\"]\n",
    "        G.node[scan][\"sirius:explainedPeaks\"] = result[\"explainedPeaks\"]\n",
    "\n",
    "# Adding CSI:FingerID information\n",
    "for result in fingerid_df.to_dict(orient=\"records\"):\n",
    "    scan = str(result[\"scan\"])\n",
    "    if scan in G:\n",
    "        G.node[scan][\"csifingerid:smiles\"] = result[\"smiles\"]\n",
    "        G.node[scan][\"csifingerid:Confidence_Score\"] = result[\"Confidence_Score\"]\n",
    "        G.node[scan][\"csifingerid:#adducts\"] = result[\"#adducts\"]\n",
    "        G.node[scan][\"csifingerid:dbflags\"] = result[\"dbflags\"]\n",
    "                    \n",
    "# Adding canopus information\n",
    "for result in canopus_df.to_dict(orient=\"records\"):\n",
    "    scan = str(result[\"scan\"])\n",
    "    if scan in G:\n",
    "        G.node[scan][\"canopus:subclass\"] = result[\"subclass\"]\n",
    "        G.node[scan][\"canopus:class\"] = result[\"class\"]\n",
    "        G.node[scan][\"canopus:superclass\"] = result[\"superclass\"]\n",
    "        G.node[scan][\"canopus:most specific class\"] = result[\"most specific class\"]\n",
    "    \n",
    "nx.write_graphml(G, \"fbmn_sirius_network.graphml\")"
   ]
  },
  {
   "cell_type": "markdown",
   "metadata": {},
   "source": [
    ">**Step 4 - Now download the generated Cytoscape file**\n",
    ">>[Click here to download](fbmn_sirius_network.graphml?download=1)\n",
    "\n",
    ">**Step 5 - Open the Cytoscape file and explore the network**\n",
    ">>In the downloaded Cytoscape file, the results from SIRIUS are available as supplementary columns in the node table. The results for each step (molecular formula prediction, structure annotation, and class annotation) have a distinctive prefixe (sirius, csifingerid, canopus). These columns can be used to search node properties and visualize structures in the network with the chemViz2 pluggin.\\\n",
    ">>**For more information about using Cytoscape with the FBMN workflow** -> [https://ccms-ucsd.github.io/GNPSDocumentation/featurebasedmolecularnetworking-cytoscape/](https://ccms-ucsd.github.io/GNPSDocumentation/featurebasedmolecularnetworking-cytoscape/)\\\n",
    ">>**Along with the following general Cytoscape documentation for molecular networking** -> [https://ccms-ucsd.github.io/GNPSDocumentation/cytoscape/](https://ccms-ucsd.github.io/GNPSDocumentation/cytoscape/)"
   ]
  },
  {
   "cell_type": "code",
   "execution_count": null,
   "metadata": {},
   "outputs": [],
   "source": []
  }
 ],
 "metadata": {
  "kernelspec": {
   "display_name": "Python 3",
   "language": "python",
   "name": "python3"
  },
  "language_info": {
   "codemirror_mode": {
    "name": "ipython",
    "version": 3
   },
   "file_extension": ".py",
   "mimetype": "text/x-python",
   "name": "python",
   "nbconvert_exporter": "python",
   "pygments_lexer": "ipython3",
   "version": "3.7.8"
  }
 },
 "nbformat": 4,
 "nbformat_minor": 4
}
